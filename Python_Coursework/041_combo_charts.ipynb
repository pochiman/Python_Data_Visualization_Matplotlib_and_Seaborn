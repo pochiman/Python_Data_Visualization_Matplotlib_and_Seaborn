{
 "cells": [
  {
   "cell_type": "code",
   "execution_count": 1,
   "id": "ed370ede-1fe2-4738-9902-bee68e42a105",
   "metadata": {},
   "outputs": [],
   "source": [
    "import pandas as pd\n",
    "import matplotlib.pyplot as plt"
   ]
  },
  {
   "cell_type": "code",
   "execution_count": 3,
   "id": "9836b0ea-cc0f-4385-b466-118eabe82a01",
   "metadata": {},
   "outputs": [],
   "source": [
    "housing_raw = pd.read_csv(\n",
    "    \"../Data/housing_data.csv\",\n",
    "    parse_dates=[\"period_begin\", \"period_end\"],\n",
    "    dtype={\"total_homes_sold\": \"Int32\", \"region_name\": \"category\"})"
   ]
  },
  {
   "cell_type": "code",
   "execution_count": 4,
   "id": "7013b1ff-5fb7-4618-97c3-ae1498032a93",
   "metadata": {},
   "outputs": [],
   "source": [
    "ca_housing = (\n",
    "    housing_raw\n",
    "    .loc[(housing_raw[\"region_name\"].str.contains(\"CA\"))]\n",
    "    .assign(region_name = housing_raw[\"region_name\"].str[0:-11])\n",
    "    .set_index(\"period_begin\")\n",
    ")"
   ]
  },
  {
   "cell_type": "code",
   "execution_count": 5,
   "id": "1b0150e3-8812-43be-9307-df33afc88ed5",
   "metadata": {},
   "outputs": [
    {
     "data": {
      "text/html": [
       "<div>\n",
       "<style scoped>\n",
       "    .dataframe tbody tr th:only-of-type {\n",
       "        vertical-align: middle;\n",
       "    }\n",
       "\n",
       "    .dataframe tbody tr th {\n",
       "        vertical-align: top;\n",
       "    }\n",
       "\n",
       "    .dataframe thead th {\n",
       "        text-align: right;\n",
       "    }\n",
       "</style>\n",
       "<table border=\"1\" class=\"dataframe\">\n",
       "  <thead>\n",
       "    <tr style=\"text-align: right;\">\n",
       "      <th></th>\n",
       "      <th>region_name</th>\n",
       "      <th>period_end</th>\n",
       "      <th>total_homes_sold</th>\n",
       "      <th>inventory</th>\n",
       "      <th>active_listings</th>\n",
       "      <th>age_of_inventory</th>\n",
       "      <th>median_active_list_price</th>\n",
       "      <th>months_of_supply</th>\n",
       "    </tr>\n",
       "    <tr>\n",
       "      <th>period_begin</th>\n",
       "      <th></th>\n",
       "      <th></th>\n",
       "      <th></th>\n",
       "      <th></th>\n",
       "      <th></th>\n",
       "      <th></th>\n",
       "      <th></th>\n",
       "      <th></th>\n",
       "    </tr>\n",
       "  </thead>\n",
       "  <tbody>\n",
       "    <tr>\n",
       "      <th>2020-06-22</th>\n",
       "      <td>Sacramento</td>\n",
       "      <td>2020-09-13</td>\n",
       "      <td>5107</td>\n",
       "      <td>1729.0</td>\n",
       "      <td>2206.0</td>\n",
       "      <td>27.5</td>\n",
       "      <td>445540.9</td>\n",
       "      <td>5.235794</td>\n",
       "    </tr>\n",
       "    <tr>\n",
       "      <th>2018-09-03</th>\n",
       "      <td>Nevada</td>\n",
       "      <td>2018-11-25</td>\n",
       "      <td>529</td>\n",
       "      <td>480.0</td>\n",
       "      <td>517.0</td>\n",
       "      <td>71.4</td>\n",
       "      <td>557508.3</td>\n",
       "      <td>12.165607</td>\n",
       "    </tr>\n",
       "    <tr>\n",
       "      <th>2017-06-05</th>\n",
       "      <td>Stanislaus</td>\n",
       "      <td>2017-08-27</td>\n",
       "      <td>1572</td>\n",
       "      <td>1042.0</td>\n",
       "      <td>1193.0</td>\n",
       "      <td>38.8</td>\n",
       "      <td>320660.0</td>\n",
       "      <td>9.212632</td>\n",
       "    </tr>\n",
       "    <tr>\n",
       "      <th>2020-01-20</th>\n",
       "      <td>Tehama</td>\n",
       "      <td>2020-04-12</td>\n",
       "      <td>102</td>\n",
       "      <td>241.0</td>\n",
       "      <td>252.0</td>\n",
       "      <td>99.2</td>\n",
       "      <td>297979.1</td>\n",
       "      <td>31.530228</td>\n",
       "    </tr>\n",
       "    <tr>\n",
       "      <th>2017-11-13</th>\n",
       "      <td>Stanislaus</td>\n",
       "      <td>2018-02-04</td>\n",
       "      <td>1200</td>\n",
       "      <td>797.0</td>\n",
       "      <td>907.0</td>\n",
       "      <td>56.5</td>\n",
       "      <td>330049.9</td>\n",
       "      <td>9.744362</td>\n",
       "    </tr>\n",
       "  </tbody>\n",
       "</table>\n",
       "</div>"
      ],
      "text/plain": [
       "             region_name period_end  total_homes_sold  inventory  \\\n",
       "period_begin                                                       \n",
       "2020-06-22    Sacramento 2020-09-13              5107     1729.0   \n",
       "2018-09-03        Nevada 2018-11-25               529      480.0   \n",
       "2017-06-05    Stanislaus 2017-08-27              1572     1042.0   \n",
       "2020-01-20        Tehama 2020-04-12               102      241.0   \n",
       "2017-11-13    Stanislaus 2018-02-04              1200      797.0   \n",
       "\n",
       "              active_listings  age_of_inventory  median_active_list_price  \\\n",
       "period_begin                                                                \n",
       "2020-06-22             2206.0              27.5                  445540.9   \n",
       "2018-09-03              517.0              71.4                  557508.3   \n",
       "2017-06-05             1193.0              38.8                  320660.0   \n",
       "2020-01-20              252.0              99.2                  297979.1   \n",
       "2017-11-13              907.0              56.5                  330049.9   \n",
       "\n",
       "              months_of_supply  \n",
       "period_begin                    \n",
       "2020-06-22            5.235794  \n",
       "2018-09-03           12.165607  \n",
       "2017-06-05            9.212632  \n",
       "2020-01-20           31.530228  \n",
       "2017-11-13            9.744362  "
      ]
     },
     "execution_count": 5,
     "metadata": {},
     "output_type": "execute_result"
    }
   ],
   "source": [
    "ca_housing.head()"
   ]
  },
  {
   "cell_type": "code",
   "execution_count": 6,
   "id": "6db04794-6b3b-404c-bd02-2950cdb7f0f3",
   "metadata": {},
   "outputs": [
    {
     "data": {
      "text/html": [
       "<div>\n",
       "<style scoped>\n",
       "    .dataframe tbody tr th:only-of-type {\n",
       "        vertical-align: middle;\n",
       "    }\n",
       "\n",
       "    .dataframe tbody tr th {\n",
       "        vertical-align: top;\n",
       "    }\n",
       "\n",
       "    .dataframe thead th {\n",
       "        text-align: right;\n",
       "    }\n",
       "</style>\n",
       "<table border=\"1\" class=\"dataframe\">\n",
       "  <thead>\n",
       "    <tr style=\"text-align: right;\">\n",
       "      <th></th>\n",
       "      <th>inventory</th>\n",
       "      <th>median_active_list_price</th>\n",
       "    </tr>\n",
       "    <tr>\n",
       "      <th>period_begin</th>\n",
       "      <th></th>\n",
       "      <th></th>\n",
       "    </tr>\n",
       "  </thead>\n",
       "  <tbody>\n",
       "    <tr>\n",
       "      <th>2017-01-02</th>\n",
       "      <td>5468.0</td>\n",
       "      <td>618570.8</td>\n",
       "    </tr>\n",
       "    <tr>\n",
       "      <th>2017-01-09</th>\n",
       "      <td>5493.0</td>\n",
       "      <td>621737.5</td>\n",
       "    </tr>\n",
       "    <tr>\n",
       "      <th>2017-01-16</th>\n",
       "      <td>5520.0</td>\n",
       "      <td>625820.8</td>\n",
       "    </tr>\n",
       "    <tr>\n",
       "      <th>2017-01-23</th>\n",
       "      <td>5546.0</td>\n",
       "      <td>629491.6</td>\n",
       "    </tr>\n",
       "    <tr>\n",
       "      <th>2017-01-30</th>\n",
       "      <td>5581.0</td>\n",
       "      <td>632824.0</td>\n",
       "    </tr>\n",
       "  </tbody>\n",
       "</table>\n",
       "</div>"
      ],
      "text/plain": [
       "              inventory  median_active_list_price\n",
       "period_begin                                     \n",
       "2017-01-02       5468.0                  618570.8\n",
       "2017-01-09       5493.0                  621737.5\n",
       "2017-01-16       5520.0                  625820.8\n",
       "2017-01-23       5546.0                  629491.6\n",
       "2017-01-30       5581.0                  632824.0"
      ]
     },
     "execution_count": 6,
     "metadata": {},
     "output_type": "execute_result"
    }
   ],
   "source": [
    "sd_dual = (\n",
    "    ca_housing\n",
    "    .loc[ca_housing[\"region_name\"] == \"San Diego\",\n",
    "        [\"inventory\", \"median_active_list_price\"]]\n",
    ").sort_index()\n",
    "\n",
    "sd_dual.head()"
   ]
  },
  {
   "cell_type": "code",
   "execution_count": 7,
   "id": "547820ad-7046-437c-a36b-8262e3af5ee3",
   "metadata": {},
   "outputs": [
    {
     "data": {
      "text/plain": [
       "<matplotlib.legend.Legend at 0x1289086d0>"
      ]
     },
     "execution_count": 7,
     "metadata": {},
     "output_type": "execute_result"
    },
    {
     "data": {
      "image/png": "[encoded data removed]",
      "text/plain": [
       "<Figure size 640x480 with 2 Axes>"
      ]
     },
     "metadata": {},
     "output_type": "display_data"
    }
   ],
   "source": [
    "fig, ax = plt.subplots()\n",
    "\n",
    "width = 5\n",
    "\n",
    "ax.plot(\n",
    "    sd_dual[\"median_active_list_price\"],\n",
    "    color=\"green\",\n",
    "    alpha=.4,\n",
    "    label=\"Price\"\n",
    ")\n",
    "# ax.legend()\n",
    "\n",
    "ax2 = ax.twinx()\n",
    "\n",
    "ax2.bar(sd_dual.index, \n",
    "        sd_dual[\"inventory\"], \n",
    "        width=width,\n",
    "        alpha=.3,\n",
    "        label=\"inventory\"   \n",
    "       )\n",
    "\n",
    "# ax2.legend()\n",
    "\n",
    "fig.legend()"
   ]
  },
  {
   "cell_type": "code",
   "execution_count": 9,
   "id": "f1acbb64-633a-4c6c-9667-0ec345ac8204",
   "metadata": {},
   "outputs": [
    {
     "name": "stderr",
     "output_type": "stream",
     "text": [
      "/var/folders/bm/h1t1wfk16y5gv2b9svjm7mzw0000gn/T/ipykernel_1737/2108416439.py:1: FutureWarning: 'Y' is deprecated and will be removed in a future version, please use 'YE' instead.\n",
      "  sd_dual2 = sd_dual.resample(\"Y\").mean()\n"
     ]
    },
    {
     "data": {
      "text/html": [
       "<div>\n",
       "<style scoped>\n",
       "    .dataframe tbody tr th:only-of-type {\n",
       "        vertical-align: middle;\n",
       "    }\n",
       "\n",
       "    .dataframe tbody tr th {\n",
       "        vertical-align: top;\n",
       "    }\n",
       "\n",
       "    .dataframe thead th {\n",
       "        text-align: right;\n",
       "    }\n",
       "</style>\n",
       "<table border=\"1\" class=\"dataframe\">\n",
       "  <thead>\n",
       "    <tr style=\"text-align: right;\">\n",
       "      <th></th>\n",
       "      <th>inventory</th>\n",
       "      <th>median_active_list_price</th>\n",
       "    </tr>\n",
       "    <tr>\n",
       "      <th>period_begin</th>\n",
       "      <th></th>\n",
       "      <th></th>\n",
       "    </tr>\n",
       "  </thead>\n",
       "  <tbody>\n",
       "    <tr>\n",
       "      <th>2017-12-31</th>\n",
       "      <td>5986.730769</td>\n",
       "      <td>645314.217308</td>\n",
       "    </tr>\n",
       "    <tr>\n",
       "      <th>2018-12-31</th>\n",
       "      <td>7438.433962</td>\n",
       "      <td>658434.637736</td>\n",
       "    </tr>\n",
       "    <tr>\n",
       "      <th>2019-12-31</th>\n",
       "      <td>6794.538462</td>\n",
       "      <td>685614.486538</td>\n",
       "    </tr>\n",
       "    <tr>\n",
       "      <th>2020-12-31</th>\n",
       "      <td>4494.076923</td>\n",
       "      <td>735517.426923</td>\n",
       "    </tr>\n",
       "    <tr>\n",
       "      <th>2021-12-31</th>\n",
       "      <td>2975.961538</td>\n",
       "      <td>803811.036538</td>\n",
       "    </tr>\n",
       "    <tr>\n",
       "      <th>2022-12-31</th>\n",
       "      <td>2692.470588</td>\n",
       "      <td>889710.241176</td>\n",
       "    </tr>\n",
       "  </tbody>\n",
       "</table>\n",
       "</div>"
      ],
      "text/plain": [
       "                inventory  median_active_list_price\n",
       "period_begin                                       \n",
       "2017-12-31    5986.730769             645314.217308\n",
       "2018-12-31    7438.433962             658434.637736\n",
       "2019-12-31    6794.538462             685614.486538\n",
       "2020-12-31    4494.076923             735517.426923\n",
       "2021-12-31    2975.961538             803811.036538\n",
       "2022-12-31    2692.470588             889710.241176"
      ]
     },
     "execution_count": 9,
     "metadata": {},
     "output_type": "execute_result"
    }
   ],
   "source": [
    "sd_dual2 = sd_dual.resample(\"Y\").mean()\n",
    "\n",
    "sd_dual2"
   ]
  },
  {
   "cell_type": "code",
   "execution_count": 12,
   "id": "6aa08f17-5dc6-4dbf-bb15-4bbb632858a9",
   "metadata": {},
   "outputs": [
    {
     "data": {
      "text/plain": [
       "<matplotlib.legend.Legend at 0x135f43a10>"
      ]
     },
     "execution_count": 12,
     "metadata": {},
     "output_type": "execute_result"
    },
    {
     "data": {
      "image/png": "[encoded data removed]",
      "text/plain": [
       "<Figure size 640x480 with 2 Axes>"
      ]
     },
     "metadata": {},
     "output_type": "display_data"
    }
   ],
   "source": [
    "fig, ax = plt.subplots()\n",
    "\n",
    "width = 200\n",
    "\n",
    "ax.plot(\n",
    "    sd_dual2[\"median_active_list_price\"],\n",
    "    color=\"green\",\n",
    "    alpha=.4,\n",
    "    label=\"Price\"\n",
    ")\n",
    "ax.legend()\n",
    "\n",
    "ax2 = ax.twinx()\n",
    "\n",
    "ax2.bar(sd_dual2.index, \n",
    "        sd_dual2[\"inventory\"], \n",
    "        width=width,\n",
    "        color=\"grey\",\n",
    "        alpha=.3,\n",
    "        label=\"inventory\"   \n",
    "       )\n",
    "\n",
    "ax2.legend()\n",
    "\n",
    "# fig.legend(bbox_to_anchor=(1.2, .8))\n",
    "\n",
    "# plt.show()"
   ]
  },
  {
   "cell_type": "code",
   "execution_count": null,
   "id": "60c472a7-d5dd-4e97-af79-976569140a88",
   "metadata": {},
   "outputs": [],
   "source": []
  }
 ],
 "metadata": {
  "kernelspec": {
   "display_name": "Python 3 (ipykernel)",
   "language": "python",
   "name": "python3"
  },
  "language_info": {
   "codemirror_mode": {
    "name": "ipython",
    "version": 3
   },
   "file_extension": ".py",
   "mimetype": "text/x-python",
   "name": "python",
   "nbconvert_exporter": "python",
   "pygments_lexer": "ipython3",
   "version": "3.11.10"
  }
 },
 "nbformat": 4,
 "nbformat_minor": 5
}
