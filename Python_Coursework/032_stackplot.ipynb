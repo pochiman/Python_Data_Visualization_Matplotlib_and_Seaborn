{
 "cells": [
  {
   "cell_type": "code",
   "execution_count": 1,
   "id": "783f34d7-acfc-49a0-a0d5-4c65a72b0fc2",
   "metadata": {},
   "outputs": [],
   "source": [
    "import pandas as pd\n",
    "import matplotlib.pyplot as plt"
   ]
  },
  {
   "cell_type": "code",
   "execution_count": 2,
   "id": "7d1110c4-db28-4ad8-a136-48147dd38696",
   "metadata": {},
   "outputs": [],
   "source": [
    "housing_raw = pd.read_csv(\n",
    "    \"../Data/housing_data.csv\",\n",
    "    parse_dates=[\"period_begin\", \"period_end\"],\n",
    "    dtype={\"total_homes_sold\": \"Int32\", \"region_name\": \"category\"})"
   ]
  },
  {
   "cell_type": "code",
   "execution_count": 3,
   "id": "e13bfae9-bc7b-4a72-aab3-4b75cc44743b",
   "metadata": {},
   "outputs": [],
   "source": [
    "ca_housing = (\n",
    "    housing_raw\n",
    "    .loc[(housing_raw[\"region_name\"].str.contains(\"CA\"))]\n",
    "    .assign(region_name = housing_raw[\"region_name\"].str[0:-11])\n",
    ")"
   ]
  },
  {
   "cell_type": "code",
   "execution_count": 4,
   "id": "013048a4-d282-4648-aa37-026ccfac5891",
   "metadata": {},
   "outputs": [
    {
     "data": {
      "text/html": [
       "<div>\n",
       "<style scoped>\n",
       "    .dataframe tbody tr th:only-of-type {\n",
       "        vertical-align: middle;\n",
       "    }\n",
       "\n",
       "    .dataframe tbody tr th {\n",
       "        vertical-align: top;\n",
       "    }\n",
       "\n",
       "    .dataframe thead th {\n",
       "        text-align: right;\n",
       "    }\n",
       "</style>\n",
       "<table border=\"1\" class=\"dataframe\">\n",
       "  <thead>\n",
       "    <tr style=\"text-align: right;\">\n",
       "      <th></th>\n",
       "      <th>region_name</th>\n",
       "      <th>period_begin</th>\n",
       "      <th>period_end</th>\n",
       "      <th>total_homes_sold</th>\n",
       "      <th>inventory</th>\n",
       "      <th>active_listings</th>\n",
       "      <th>age_of_inventory</th>\n",
       "      <th>median_active_list_price</th>\n",
       "      <th>months_of_supply</th>\n",
       "    </tr>\n",
       "  </thead>\n",
       "  <tbody>\n",
       "    <tr>\n",
       "      <th>6</th>\n",
       "      <td>Sacramento</td>\n",
       "      <td>2020-06-22</td>\n",
       "      <td>2020-09-13</td>\n",
       "      <td>5107</td>\n",
       "      <td>1729.0</td>\n",
       "      <td>2206.0</td>\n",
       "      <td>27.5</td>\n",
       "      <td>445540.9</td>\n",
       "      <td>5.235794</td>\n",
       "    </tr>\n",
       "    <tr>\n",
       "      <th>164</th>\n",
       "      <td>Nevada</td>\n",
       "      <td>2018-09-03</td>\n",
       "      <td>2018-11-25</td>\n",
       "      <td>529</td>\n",
       "      <td>480.0</td>\n",
       "      <td>517.0</td>\n",
       "      <td>71.4</td>\n",
       "      <td>557508.3</td>\n",
       "      <td>12.165607</td>\n",
       "    </tr>\n",
       "    <tr>\n",
       "      <th>252</th>\n",
       "      <td>Stanislaus</td>\n",
       "      <td>2017-06-05</td>\n",
       "      <td>2017-08-27</td>\n",
       "      <td>1572</td>\n",
       "      <td>1042.0</td>\n",
       "      <td>1193.0</td>\n",
       "      <td>38.8</td>\n",
       "      <td>320660.0</td>\n",
       "      <td>9.212632</td>\n",
       "    </tr>\n",
       "    <tr>\n",
       "      <th>293</th>\n",
       "      <td>Tehama</td>\n",
       "      <td>2020-01-20</td>\n",
       "      <td>2020-04-12</td>\n",
       "      <td>102</td>\n",
       "      <td>241.0</td>\n",
       "      <td>252.0</td>\n",
       "      <td>99.2</td>\n",
       "      <td>297979.1</td>\n",
       "      <td>31.530228</td>\n",
       "    </tr>\n",
       "    <tr>\n",
       "      <th>304</th>\n",
       "      <td>Stanislaus</td>\n",
       "      <td>2017-11-13</td>\n",
       "      <td>2018-02-04</td>\n",
       "      <td>1200</td>\n",
       "      <td>797.0</td>\n",
       "      <td>907.0</td>\n",
       "      <td>56.5</td>\n",
       "      <td>330049.9</td>\n",
       "      <td>9.744362</td>\n",
       "    </tr>\n",
       "  </tbody>\n",
       "</table>\n",
       "</div>"
      ],
      "text/plain": [
       "    region_name period_begin period_end  total_homes_sold  inventory  \\\n",
       "6    Sacramento   2020-06-22 2020-09-13              5107     1729.0   \n",
       "164      Nevada   2018-09-03 2018-11-25               529      480.0   \n",
       "252  Stanislaus   2017-06-05 2017-08-27              1572     1042.0   \n",
       "293      Tehama   2020-01-20 2020-04-12               102      241.0   \n",
       "304  Stanislaus   2017-11-13 2018-02-04              1200      797.0   \n",
       "\n",
       "     active_listings  age_of_inventory  median_active_list_price  \\\n",
       "6             2206.0              27.5                  445540.9   \n",
       "164            517.0              71.4                  557508.3   \n",
       "252           1193.0              38.8                  320660.0   \n",
       "293            252.0              99.2                  297979.1   \n",
       "304            907.0              56.5                  330049.9   \n",
       "\n",
       "     months_of_supply  \n",
       "6            5.235794  \n",
       "164         12.165607  \n",
       "252          9.212632  \n",
       "293         31.530228  \n",
       "304          9.744362  "
      ]
     },
     "execution_count": 4,
     "metadata": {},
     "output_type": "execute_result"
    }
   ],
   "source": [
    "ca_housing.head()"
   ]
  },
  {
   "cell_type": "code",
   "execution_count": 5,
   "id": "a516fad8-afa8-4108-99e4-1a647328559a",
   "metadata": {},
   "outputs": [
    {
     "data": {
      "text/html": [
       "<div>\n",
       "<style scoped>\n",
       "    .dataframe tbody tr th:only-of-type {\n",
       "        vertical-align: middle;\n",
       "    }\n",
       "\n",
       "    .dataframe tbody tr th {\n",
       "        vertical-align: top;\n",
       "    }\n",
       "\n",
       "    .dataframe thead th {\n",
       "        text-align: right;\n",
       "    }\n",
       "</style>\n",
       "<table border=\"1\" class=\"dataframe\">\n",
       "  <thead>\n",
       "    <tr style=\"text-align: right;\">\n",
       "      <th>region_name</th>\n",
       "      <th>Los Angeles</th>\n",
       "      <th>San Diego</th>\n",
       "      <th>San Francisco</th>\n",
       "      <th>CA_average</th>\n",
       "    </tr>\n",
       "    <tr>\n",
       "      <th>period_begin</th>\n",
       "      <th></th>\n",
       "      <th></th>\n",
       "      <th></th>\n",
       "      <th></th>\n",
       "    </tr>\n",
       "  </thead>\n",
       "  <tbody>\n",
       "    <tr>\n",
       "      <th>2017-01-02</th>\n",
       "      <td>611561.0</td>\n",
       "      <td>618570.8</td>\n",
       "      <td>1229018.7</td>\n",
       "      <td>492258.437736</td>\n",
       "    </tr>\n",
       "    <tr>\n",
       "      <th>2017-01-09</th>\n",
       "      <td>614061.0</td>\n",
       "      <td>621737.5</td>\n",
       "      <td>1233393.7</td>\n",
       "      <td>493710.639623</td>\n",
       "    </tr>\n",
       "    <tr>\n",
       "      <th>2017-01-16</th>\n",
       "      <td>617311.0</td>\n",
       "      <td>625820.8</td>\n",
       "      <td>1239977.0</td>\n",
       "      <td>495369.416981</td>\n",
       "    </tr>\n",
       "    <tr>\n",
       "      <th>2017-01-23</th>\n",
       "      <td>620644.3</td>\n",
       "      <td>629491.6</td>\n",
       "      <td>1247977.0</td>\n",
       "      <td>497191.662264</td>\n",
       "    </tr>\n",
       "    <tr>\n",
       "      <th>2017-01-30</th>\n",
       "      <td>624541.6</td>\n",
       "      <td>632824.0</td>\n",
       "      <td>1253310.4</td>\n",
       "      <td>499286.207547</td>\n",
       "    </tr>\n",
       "  </tbody>\n",
       "</table>\n",
       "</div>"
      ],
      "text/plain": [
       "region_name   Los Angeles  San Diego  San Francisco     CA_average\n",
       "period_begin                                                      \n",
       "2017-01-02       611561.0   618570.8      1229018.7  492258.437736\n",
       "2017-01-09       614061.0   621737.5      1233393.7  493710.639623\n",
       "2017-01-16       617311.0   625820.8      1239977.0  495369.416981\n",
       "2017-01-23       620644.3   629491.6      1247977.0  497191.662264\n",
       "2017-01-30       624541.6   632824.0      1253310.4  499286.207547"
      ]
     },
     "execution_count": 5,
     "metadata": {},
     "output_type": "execute_result"
    }
   ],
   "source": [
    "ca_housing_pivot = (\n",
    "    ca_housing\n",
    "    .pivot_table(\n",
    "        index=\"period_begin\",\n",
    "        columns = \"region_name\",\n",
    "        values = \"median_active_list_price\"\n",
    "    )\n",
    "    .assign(CA_average = lambda x: x.mean(axis=1))\n",
    "    .loc[:, [\"Los Angeles\", \"San Diego\", \"San Francisco\", \"CA_average\"]]\n",
    ")\n",
    "\n",
    "ca_housing_pivot.head()"
   ]
  },
  {
   "cell_type": "code",
   "execution_count": 7,
   "id": "2b1c53de-f104-4b7a-b890-fecafdf07496",
   "metadata": {},
   "outputs": [
    {
     "data": {
      "text/plain": [
       "<matplotlib.legend.Legend at 0x12da5b6d0>"
      ]
     },
     "execution_count": 7,
     "metadata": {},
     "output_type": "execute_result"
    },
    {
     "data": {
      "image/png": "[encoded data removed]",
      "text/plain": [
       "<Figure size 640x480 with 1 Axes>"
      ]
     },
     "metadata": {},
     "output_type": "display_data"
    }
   ],
   "source": [
    "fig, ax = plt.subplots()\n",
    "\n",
    "# labels = ca_housing_pivot.columns\n",
    "# colors = [\"grey\", \"green\", \"pink\"]\n",
    "\n",
    "ax.stackplot(\n",
    "    ca_housing_pivot.index,\n",
    "    ca_housing_pivot[\"Los Angeles\"],\n",
    "    ca_housing_pivot[\"San Diego\"],\n",
    "    ca_housing_pivot[\"San Francisco\"],\n",
    "        # labels=labels,\n",
    "        # colors=colors\n",
    ")\n",
    "\n",
    "ax.legend(ca_housing_pivot.columns)"
   ]
  },
  {
   "cell_type": "code",
   "execution_count": 8,
   "id": "d7879795-dc06-48b5-8490-b423e5bcf051",
   "metadata": {},
   "outputs": [
    {
     "data": {
      "text/html": [
       "<div>\n",
       "<style scoped>\n",
       "    .dataframe tbody tr th:only-of-type {\n",
       "        vertical-align: middle;\n",
       "    }\n",
       "\n",
       "    .dataframe tbody tr th {\n",
       "        vertical-align: top;\n",
       "    }\n",
       "\n",
       "    .dataframe thead th {\n",
       "        text-align: right;\n",
       "    }\n",
       "</style>\n",
       "<table border=\"1\" class=\"dataframe\">\n",
       "  <thead>\n",
       "    <tr style=\"text-align: right;\">\n",
       "      <th>region_name</th>\n",
       "      <th>Los Angeles</th>\n",
       "      <th>San Diego</th>\n",
       "      <th>San Francisco</th>\n",
       "      <th>CA_average</th>\n",
       "    </tr>\n",
       "    <tr>\n",
       "      <th>period_begin</th>\n",
       "      <th></th>\n",
       "      <th></th>\n",
       "      <th></th>\n",
       "      <th></th>\n",
       "    </tr>\n",
       "  </thead>\n",
       "  <tbody>\n",
       "    <tr>\n",
       "      <th>2017-01-02</th>\n",
       "      <td>15492.0</td>\n",
       "      <td>5468.0</td>\n",
       "      <td>626.0</td>\n",
       "      <td>1259.851852</td>\n",
       "    </tr>\n",
       "    <tr>\n",
       "      <th>2017-01-09</th>\n",
       "      <td>15605.0</td>\n",
       "      <td>5493.0</td>\n",
       "      <td>652.0</td>\n",
       "      <td>1268.888889</td>\n",
       "    </tr>\n",
       "    <tr>\n",
       "      <th>2017-01-16</th>\n",
       "      <td>15724.0</td>\n",
       "      <td>5520.0</td>\n",
       "      <td>673.0</td>\n",
       "      <td>1278.481481</td>\n",
       "    </tr>\n",
       "    <tr>\n",
       "      <th>2017-01-23</th>\n",
       "      <td>15834.0</td>\n",
       "      <td>5546.0</td>\n",
       "      <td>685.0</td>\n",
       "      <td>1287.129630</td>\n",
       "    </tr>\n",
       "    <tr>\n",
       "      <th>2017-01-30</th>\n",
       "      <td>15972.0</td>\n",
       "      <td>5581.0</td>\n",
       "      <td>697.0</td>\n",
       "      <td>1298.148148</td>\n",
       "    </tr>\n",
       "  </tbody>\n",
       "</table>\n",
       "</div>"
      ],
      "text/plain": [
       "region_name   Los Angeles  San Diego  San Francisco   CA_average\n",
       "period_begin                                                    \n",
       "2017-01-02        15492.0     5468.0          626.0  1259.851852\n",
       "2017-01-09        15605.0     5493.0          652.0  1268.888889\n",
       "2017-01-16        15724.0     5520.0          673.0  1278.481481\n",
       "2017-01-23        15834.0     5546.0          685.0  1287.129630\n",
       "2017-01-30        15972.0     5581.0          697.0  1298.148148"
      ]
     },
     "execution_count": 8,
     "metadata": {},
     "output_type": "execute_result"
    }
   ],
   "source": [
    "ca_housing_pivot = (\n",
    "    ca_housing\n",
    "    .pivot_table(\n",
    "        index=\"period_begin\",\n",
    "        columns = \"region_name\",\n",
    "        values = \"inventory\"\n",
    "    )\n",
    "    .assign(CA_average = lambda x: x.mean(axis=1))\n",
    "    .loc[:, [\"Los Angeles\", \"San Diego\", \"San Francisco\", \"CA_average\"]]\n",
    ")\n",
    "\n",
    "ca_housing_pivot.head()"
   ]
  },
  {
   "cell_type": "code",
   "execution_count": 13,
   "id": "7084ed48-ec0c-4093-a777-0608c2cea8a3",
   "metadata": {},
   "outputs": [
    {
     "data": {
      "text/plain": [
       "<matplotlib.legend.Legend at 0x12dd9b010>"
      ]
     },
     "execution_count": 13,
     "metadata": {},
     "output_type": "execute_result"
    },
    {
     "data": {
      "image/png": "[encoded data removed]",
      "text/plain": [
       "<Figure size 640x480 with 1 Axes>"
      ]
     },
     "metadata": {},
     "output_type": "display_data"
    }
   ],
   "source": [
    "fig, ax = plt.subplots()\n",
    "\n",
    "labels = [\"LA\", \"SD\", \"SF\"]\n",
    "# colors = [\"grey\", \"green\", \"pink\"]\n",
    "\n",
    "ax.stackplot(\n",
    "    ca_housing_pivot.index,\n",
    "    ca_housing_pivot[\"Los Angeles\"],\n",
    "    ca_housing_pivot[\"San Diego\"],\n",
    "    ca_housing_pivot[\"San Francisco\"],\n",
    "    labels=labels,\n",
    "    # colors=colors\n",
    ")\n",
    "\n",
    "ax.legend()"
   ]
  },
  {
   "cell_type": "code",
   "execution_count": null,
   "id": "f1203e2a-5da3-4672-94a7-d7c7b5d8f554",
   "metadata": {},
   "outputs": [],
   "source": []
  }
 ],
 "metadata": {
  "kernelspec": {
   "display_name": "Python 3 (ipykernel)",
   "language": "python",
   "name": "python3"
  },
  "language_info": {
   "codemirror_mode": {
    "name": "ipython",
    "version": 3
   },
   "file_extension": ".py",
   "mimetype": "text/x-python",
   "name": "python",
   "nbconvert_exporter": "python",
   "pygments_lexer": "ipython3",
   "version": "3.11.10"
  }
 },
 "nbformat": 4,
 "nbformat_minor": 5
}
